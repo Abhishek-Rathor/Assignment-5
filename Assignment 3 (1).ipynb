{
 "cells": [
  {
   "cell_type": "code",
   "execution_count": null,
   "id": "c1d34b9a-d30a-40b4-8e55-580b10ca7946",
   "metadata": {},
   "outputs": [],
   "source": [
    "Q1, Create a vehicle class with an init method having instance variables as name_of_vehicle, max_speed\n",
    "and average_of_vehicle."
   ]
  },
  {
   "cell_type": "code",
   "execution_count": 33,
   "id": "8c891574-6217-40ee-9568-ce98f688f864",
   "metadata": {},
   "outputs": [],
   "source": [
    "# Ans. 1\n",
    "\n",
    "class vehicle:\n",
    "    \n",
    "    def __init__(self, name_of_vehicle, max_speed, average_of_vehicle):\n",
    "        \n",
    "        self.name_of_vehicle = name_of_vehicle\n",
    "        self.max_speed = max_speed\n",
    "        self.average_of_vehicle = average_of_vehicle\n",
    "        \n",
    "    def return_vehicle_detials(self):\n",
    "        return self.name_of_vehicle, self.max_speed, self.average_of_vehicle"
   ]
  },
  {
   "cell_type": "code",
   "execution_count": 15,
   "id": "18906e24-a636-4646-ba4b-e02cabb02216",
   "metadata": {},
   "outputs": [],
   "source": [
    "toyata = vehicle(\"innova\",160 , 20)"
   ]
  },
  {
   "cell_type": "code",
   "execution_count": 11,
   "id": "b182a3e5-409c-41aa-b645-6fd6c229ce15",
   "metadata": {},
   "outputs": [
    {
     "data": {
      "text/plain": [
       "(160, 'innova', 20)"
      ]
     },
     "execution_count": 11,
     "metadata": {},
     "output_type": "execute_result"
    }
   ],
   "source": [
    "toyata.return_vehicle_detials()"
   ]
  },
  {
   "cell_type": "code",
   "execution_count": 13,
   "id": "ea57c3d6-dfb5-4899-8aad-9c71b3eb572a",
   "metadata": {},
   "outputs": [
    {
     "data": {
      "text/plain": [
       "20"
      ]
     },
     "execution_count": 13,
     "metadata": {},
     "output_type": "execute_result"
    }
   ],
   "source": [
    "toyata.average_of_vehicle"
   ]
  },
  {
   "cell_type": "code",
   "execution_count": 16,
   "id": "8b11a3f7-31cc-4fbb-99ee-8bceff8284e5",
   "metadata": {},
   "outputs": [
    {
     "data": {
      "text/plain": [
       "160"
      ]
     },
     "execution_count": 16,
     "metadata": {},
     "output_type": "execute_result"
    }
   ],
   "source": [
    "toyata.max_speed"
   ]
  },
  {
   "cell_type": "code",
   "execution_count": 17,
   "id": "c211637e-63d5-4560-bad9-f8be87cd6ea2",
   "metadata": {},
   "outputs": [
    {
     "data": {
      "text/plain": [
       "'innova'"
      ]
     },
     "execution_count": 17,
     "metadata": {},
     "output_type": "execute_result"
    }
   ],
   "source": [
    "toyata.name_of_vehicle"
   ]
  },
  {
   "cell_type": "code",
   "execution_count": null,
   "id": "bfa8fbd2-33ee-4fdd-87b9-5a6e944ccacd",
   "metadata": {},
   "outputs": [],
   "source": [
    "Q2. Create a child class car from the vehicle class created in Que 1, which will inherit the vehicle class.\n",
    "Create a method named seating_capacity which takes capacity as an argument and returns the name of\n",
    "the vehicle and its seating capacity."
   ]
  },
  {
   "cell_type": "code",
   "execution_count": null,
   "id": "21414ef2-9cfd-4108-a9ba-092d0de831ec",
   "metadata": {},
   "outputs": [],
   "source": []
  },
  {
   "cell_type": "code",
   "execution_count": 40,
   "id": "468630b6-e8cc-4b70-b998-1d878eb9e236",
   "metadata": {},
   "outputs": [],
   "source": [
    "class car(vehicle):\n",
    "    def __init__():\n",
    "        return \"this is a car\"\n",
    "   "
   ]
  },
  {
   "cell_type": "code",
   "execution_count": 41,
   "id": "87267b1d-2ef5-479f-9825-510d654337d1",
   "metadata": {},
   "outputs": [
    {
     "ename": "TypeError",
     "evalue": "car.__init__() takes 0 positional arguments but 1 was given",
     "output_type": "error",
     "traceback": [
      "\u001b[0;31m---------------------------------------------------------------------------\u001b[0m",
      "\u001b[0;31mTypeError\u001b[0m                                 Traceback (most recent call last)",
      "Cell \u001b[0;32mIn[41], line 1\u001b[0m\n\u001b[0;32m----> 1\u001b[0m abhi \u001b[38;5;241m=\u001b[39m \u001b[43mcar\u001b[49m\u001b[43m(\u001b[49m\u001b[43m)\u001b[49m\n",
      "\u001b[0;31mTypeError\u001b[0m: car.__init__() takes 0 positional arguments but 1 was given"
     ]
    }
   ],
   "source": [
    "abhi = car()"
   ]
  },
  {
   "cell_type": "code",
   "execution_count": null,
   "id": "822e1655-f6ec-4e97-bc93-125e629d6613",
   "metadata": {},
   "outputs": [],
   "source": [
    "Q3. What is multiple inheritance? Write a python code to demonstrate multiple inheritance."
   ]
  },
  {
   "cell_type": "code",
   "execution_count": null,
   "id": "bf0cdc80-5eaa-4c87-8f25-822e070ee184",
   "metadata": {},
   "outputs": [],
   "source": [
    "Ans. In Multiple inheritence there are two Parent class and one is child class\n",
    "in multiple inheritence child class can inherit the property of both parent class "
   ]
  },
  {
   "cell_type": "code",
   "execution_count": 61,
   "id": "9f1ecc26-1c9b-4c0d-9c0c-97669e0afbeb",
   "metadata": {},
   "outputs": [],
   "source": [
    "# Example of multiple inheritence\n",
    "\n",
    "class lab:\n",
    "    \n",
    "    def test_lab(self):\n",
    "        return \"This is my first lab\""
   ]
  },
  {
   "cell_type": "code",
   "execution_count": 62,
   "id": "69f82b01-8aea-4ada-b5fa-ea9b218c16e9",
   "metadata": {},
   "outputs": [],
   "source": [
    "class lab1(lab):\n",
    "    \n",
    "    def test_lab1(self):\n",
    "        return \"This is my second lab\""
   ]
  },
  {
   "cell_type": "code",
   "execution_count": 63,
   "id": "bb6b2b33-8f41-4116-a252-80f492834e60",
   "metadata": {},
   "outputs": [
    {
     "ename": "TypeError",
     "evalue": "Cannot create a consistent method resolution\norder (MRO) for bases lab, lab1",
     "output_type": "error",
     "traceback": [
      "\u001b[0;31m---------------------------------------------------------------------------\u001b[0m",
      "\u001b[0;31mTypeError\u001b[0m                                 Traceback (most recent call last)",
      "Cell \u001b[0;32mIn[63], line 1\u001b[0m\n\u001b[0;32m----> 1\u001b[0m \u001b[38;5;28;01mclass\u001b[39;00m \u001b[38;5;21;01mlab2\u001b[39;00m(lab , lab1) :\n\u001b[1;32m      2\u001b[0m     \u001b[38;5;28;01mpass\u001b[39;00m\n",
      "\u001b[0;31mTypeError\u001b[0m: Cannot create a consistent method resolution\norder (MRO) for bases lab, lab1"
     ]
    }
   ],
   "source": [
    "class lab2(lab , lab1) :\n",
    "    pass"
   ]
  },
  {
   "cell_type": "code",
   "execution_count": null,
   "id": "0db9f849-e612-408b-82fd-f1b69d84ec43",
   "metadata": {},
   "outputs": [],
   "source": [
    "Q4. What are getter and setter in python? Create a class and create a getter and a setter method in this\n",
    "class."
   ]
  },
  {
   "cell_type": "code",
   "execution_count": null,
   "id": "fe04c23a-4246-41d5-bc28-4ac306389fe3",
   "metadata": {},
   "outputs": [],
   "source": [
    "Ans. getter :- A method that allows you to access an attributes in a given class\n",
    "\n",
    "Setter:- A method that allows you to set or mutate the value of an attribute in a class."
   ]
  },
  {
   "cell_type": "code",
   "execution_count": null,
   "id": "dcd0fdc9-51ca-4a1b-a1a8-39ffeb4fccb5",
   "metadata": {},
   "outputs": [],
   "source": [
    "Q5.What is method overriding in python? Write a python code to demonstrate method overriding."
   ]
  },
  {
   "cell_type": "code",
   "execution_count": null,
   "id": "7a9c2e9c-b3e9-4e60-b8df-7b5e4dde84f8",
   "metadata": {},
   "outputs": [],
   "source": [
    "Method overriding is an ability of any object-oriented programming language that allows a\n",
    "subclass or child class to provide a specific implementation of a method that is a\n",
    "lready provided by one of its super-classes or parent classes."
   ]
  }
 ],
 "metadata": {
  "kernelspec": {
   "display_name": "Python 3 (ipykernel)",
   "language": "python",
   "name": "python3"
  },
  "language_info": {
   "codemirror_mode": {
    "name": "ipython",
    "version": 3
   },
   "file_extension": ".py",
   "mimetype": "text/x-python",
   "name": "python",
   "nbconvert_exporter": "python",
   "pygments_lexer": "ipython3",
   "version": "3.10.8"
  }
 },
 "nbformat": 4,
 "nbformat_minor": 5
}
